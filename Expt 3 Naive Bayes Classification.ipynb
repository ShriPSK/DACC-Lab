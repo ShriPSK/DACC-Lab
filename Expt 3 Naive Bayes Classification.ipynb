{
 "cells": [
  {
   "cell_type": "markdown",
   "id": "ce1fcf41",
   "metadata": {},
   "source": [
    "# <center> Naive Bayes Calssification</center>"
   ]
  },
  {
   "cell_type": "code",
   "execution_count": 1,
   "id": "45f5d577",
   "metadata": {
    "scrolled": true
   },
   "outputs": [
    {
     "data": {
      "text/html": [
       "<div>\n",
       "<style scoped>\n",
       "    .dataframe tbody tr th:only-of-type {\n",
       "        vertical-align: middle;\n",
       "    }\n",
       "\n",
       "    .dataframe tbody tr th {\n",
       "        vertical-align: top;\n",
       "    }\n",
       "\n",
       "    .dataframe thead th {\n",
       "        text-align: right;\n",
       "    }\n",
       "</style>\n",
       "<table border=\"1\" class=\"dataframe\">\n",
       "  <thead>\n",
       "    <tr style=\"text-align: right;\">\n",
       "      <th></th>\n",
       "      <th>PM2.5</th>\n",
       "      <th>PM10</th>\n",
       "      <th>NO2</th>\n",
       "      <th>SO2</th>\n",
       "      <th>O3</th>\n",
       "      <th>AQI</th>\n",
       "    </tr>\n",
       "  </thead>\n",
       "  <tbody>\n",
       "    <tr>\n",
       "      <th>0</th>\n",
       "      <td>104.00</td>\n",
       "      <td>148.50</td>\n",
       "      <td>23.00</td>\n",
       "      <td>15.30</td>\n",
       "      <td>117.62</td>\n",
       "      <td>3.0</td>\n",
       "    </tr>\n",
       "    <tr>\n",
       "      <th>1</th>\n",
       "      <td>94.50</td>\n",
       "      <td>142.00</td>\n",
       "      <td>16.25</td>\n",
       "      <td>17.00</td>\n",
       "      <td>136.23</td>\n",
       "      <td>3.0</td>\n",
       "    </tr>\n",
       "    <tr>\n",
       "      <th>2</th>\n",
       "      <td>82.75</td>\n",
       "      <td>126.50</td>\n",
       "      <td>14.83</td>\n",
       "      <td>15.40</td>\n",
       "      <td>149.92</td>\n",
       "      <td>3.0</td>\n",
       "    </tr>\n",
       "    <tr>\n",
       "      <th>3</th>\n",
       "      <td>68.50</td>\n",
       "      <td>117.00</td>\n",
       "      <td>13.60</td>\n",
       "      <td>21.80</td>\n",
       "      <td>161.70</td>\n",
       "      <td>3.0</td>\n",
       "    </tr>\n",
       "    <tr>\n",
       "      <th>4</th>\n",
       "      <td>69.25</td>\n",
       "      <td>112.25</td>\n",
       "      <td>11.80</td>\n",
       "      <td>21.38</td>\n",
       "      <td>161.68</td>\n",
       "      <td>3.0</td>\n",
       "    </tr>\n",
       "  </tbody>\n",
       "</table>\n",
       "</div>"
      ],
      "text/plain": [
       "    PM2.5    PM10    NO2    SO2      O3  AQI\n",
       "0  104.00  148.50  23.00  15.30  117.62  3.0\n",
       "1   94.50  142.00  16.25  17.00  136.23  3.0\n",
       "2   82.75  126.50  14.83  15.40  149.92  3.0\n",
       "3   68.50  117.00  13.60  21.80  161.70  3.0\n",
       "4   69.25  112.25  11.80  21.38  161.68  3.0"
      ]
     },
     "execution_count": 1,
     "metadata": {},
     "output_type": "execute_result"
    }
   ],
   "source": [
    "import pandas as pd\n",
    "import numpy as np\n",
    "df=pd.read_csv(\"dataset.csv\")\n",
    "df.head()\n",
    "\n",
    "# no of numerical and categorical values"
   ]
  },
  {
   "cell_type": "code",
   "execution_count": 2,
   "id": "006065ad",
   "metadata": {},
   "outputs": [
    {
     "data": {
      "text/plain": [
       "(129277, 6)"
      ]
     },
     "execution_count": 2,
     "metadata": {},
     "output_type": "execute_result"
    }
   ],
   "source": [
    "df.shape"
   ]
  },
  {
   "cell_type": "code",
   "execution_count": 5,
   "id": "5a27df19",
   "metadata": {},
   "outputs": [
    {
     "data": {
      "text/plain": [
       "<AxesSubplot:>"
      ]
     },
     "execution_count": 5,
     "metadata": {},
     "output_type": "execute_result"
    },
    {
     "data": {
      "image/png": "[encoded data removed]",
      "text/plain": [
       "<Figure size 640x480 with 1 Axes>"
      ]
     },
     "metadata": {},
     "output_type": "display_data"
    }
   ],
   "source": [
    "import seaborn as sns\n",
    "import matplotlib.pyplot as plt\n",
    "df['AQI'].value_counts().plot.bar()"
   ]
  },
  {
   "cell_type": "code",
   "execution_count": 8,
   "id": "452797f5",
   "metadata": {},
   "outputs": [
    {
     "name": "stdout",
     "output_type": "stream",
     "text": [
      "Number of numerical variables:  6\n",
      "Numerical attributes:  Index(['PM2.5', 'PM10', 'NO2', 'SO2', 'O3', 'AQI'], dtype='object')\n",
      "Number of categorical variables:  0\n",
      "Categorical attributes:  Index([], dtype='object')\n"
     ]
    }
   ],
   "source": [
    "import numpy as np\n",
    "numeric_data = df.select_dtypes(include=[np.number])\n",
    "categorical_data = df.select_dtypes(exclude=[np.number])\n",
    "print(\"Number of numerical variables: \", numeric_data.shape[1])\n",
    "print(\"Numerical attributes: \", numeric_data.columns)\n",
    "\n",
    "print(\"Number of categorical variables: \", categorical_data.shape[1])\n",
    "print(\"Categorical attributes: \",categorical_data.columns)"
   ]
  },
  {
   "cell_type": "code",
   "execution_count": 10,
   "id": "a27ae66a",
   "metadata": {
    "scrolled": true
   },
   "outputs": [
    {
     "data": {
      "text/plain": [
       "PM2.5    0\n",
       "PM10     0\n",
       "NO2      0\n",
       "SO2      0\n",
       "O3       0\n",
       "AQI      0\n",
       "dtype: int64"
      ]
     },
     "execution_count": 10,
     "metadata": {},
     "output_type": "execute_result"
    }
   ],
   "source": [
    "df.isnull().sum()"
   ]
  },
  {
   "cell_type": "markdown",
   "id": "64bff3f4",
   "metadata": {},
   "source": [
    "### Data preprocessing"
   ]
  },
  {
   "cell_type": "code",
   "execution_count": 12,
   "id": "f545da6c",
   "metadata": {},
   "outputs": [
    {
     "data": {
      "text/html": [
       "<div>\n",
       "<style scoped>\n",
       "    .dataframe tbody tr th:only-of-type {\n",
       "        vertical-align: middle;\n",
       "    }\n",
       "\n",
       "    .dataframe tbody tr th {\n",
       "        vertical-align: top;\n",
       "    }\n",
       "\n",
       "    .dataframe thead th {\n",
       "        text-align: right;\n",
       "    }\n",
       "</style>\n",
       "<table border=\"1\" class=\"dataframe\">\n",
       "  <thead>\n",
       "    <tr style=\"text-align: right;\">\n",
       "      <th></th>\n",
       "      <th>PM2.5</th>\n",
       "      <th>PM10</th>\n",
       "      <th>NO2</th>\n",
       "      <th>SO2</th>\n",
       "      <th>O3</th>\n",
       "      <th>AQI</th>\n",
       "    </tr>\n",
       "  </thead>\n",
       "  <tbody>\n",
       "    <tr>\n",
       "      <th>0</th>\n",
       "      <td>104.00</td>\n",
       "      <td>148.50</td>\n",
       "      <td>23.00</td>\n",
       "      <td>15.30</td>\n",
       "      <td>117.62</td>\n",
       "      <td>3.0</td>\n",
       "    </tr>\n",
       "    <tr>\n",
       "      <th>1</th>\n",
       "      <td>94.50</td>\n",
       "      <td>142.00</td>\n",
       "      <td>16.25</td>\n",
       "      <td>17.00</td>\n",
       "      <td>136.23</td>\n",
       "      <td>3.0</td>\n",
       "    </tr>\n",
       "    <tr>\n",
       "      <th>2</th>\n",
       "      <td>82.75</td>\n",
       "      <td>126.50</td>\n",
       "      <td>14.83</td>\n",
       "      <td>15.40</td>\n",
       "      <td>149.92</td>\n",
       "      <td>3.0</td>\n",
       "    </tr>\n",
       "    <tr>\n",
       "      <th>3</th>\n",
       "      <td>68.50</td>\n",
       "      <td>117.00</td>\n",
       "      <td>13.60</td>\n",
       "      <td>21.80</td>\n",
       "      <td>161.70</td>\n",
       "      <td>3.0</td>\n",
       "    </tr>\n",
       "    <tr>\n",
       "      <th>4</th>\n",
       "      <td>69.25</td>\n",
       "      <td>112.25</td>\n",
       "      <td>11.80</td>\n",
       "      <td>21.38</td>\n",
       "      <td>161.68</td>\n",
       "      <td>3.0</td>\n",
       "    </tr>\n",
       "  </tbody>\n",
       "</table>\n",
       "</div>"
      ],
      "text/plain": [
       "    PM2.5    PM10    NO2    SO2      O3  AQI\n",
       "0  104.00  148.50  23.00  15.30  117.62  3.0\n",
       "1   94.50  142.00  16.25  17.00  136.23  3.0\n",
       "2   82.75  126.50  14.83  15.40  149.92  3.0\n",
       "3   68.50  117.00  13.60  21.80  161.70  3.0\n",
       "4   69.25  112.25  11.80  21.38  161.68  3.0"
      ]
     },
     "execution_count": 12,
     "metadata": {},
     "output_type": "execute_result"
    }
   ],
   "source": [
    "from sklearn import preprocessing\n",
    "#Feature scaling - min max scaling\n",
    "from sklearn.preprocessing import MinMaxScaler\n",
    "scaler = MinMaxScaler()\n",
    "scaled = scaler.fit_transform(df)\n",
    "# encD = pd.DataFrame(scaled, columns=df.columns)\n",
    "encD=df\n",
    "encD.head()"
   ]
  },
  {
   "cell_type": "code",
   "execution_count": 13,
   "id": "c7284383",
   "metadata": {},
   "outputs": [
    {
     "name": "stdout",
     "output_type": "stream",
     "text": [
      "<class 'pandas.core.frame.DataFrame'>\n",
      "RangeIndex: 129277 entries, 0 to 129276\n",
      "Data columns (total 6 columns):\n",
      " #   Column  Non-Null Count   Dtype  \n",
      "---  ------  --------------   -----  \n",
      " 0   PM2.5   129277 non-null  float64\n",
      " 1   PM10    129277 non-null  float64\n",
      " 2   NO2     129277 non-null  float64\n",
      " 3   SO2     129277 non-null  float64\n",
      " 4   O3      129277 non-null  float64\n",
      " 5   AQI     129277 non-null  float64\n",
      "dtypes: float64(6)\n",
      "memory usage: 5.9 MB\n"
     ]
    }
   ],
   "source": [
    "encD.info()"
   ]
  },
  {
   "cell_type": "markdown",
   "id": "31c039f2",
   "metadata": {},
   "source": [
    "### Training the model"
   ]
  },
  {
   "cell_type": "code",
   "execution_count": 14,
   "id": "d03c889e",
   "metadata": {},
   "outputs": [],
   "source": [
    "cols=['PM2.5',\"PM10\",\"NO2\",\"SO2\",\"O3\"]\n",
    "X=encD[cols]\n",
    "y=encD['AQI']"
   ]
  },
  {
   "cell_type": "code",
   "execution_count": 15,
   "id": "e79f9834",
   "metadata": {},
   "outputs": [],
   "source": [
    "#Split into train and test set\n",
    "from sklearn.model_selection import train_test_split \n",
    "X_train, X_test, y_train, y_test = train_test_split(X, y, test_size=0.4) "
   ]
  },
  {
   "cell_type": "markdown",
   "id": "2ddc0550",
   "metadata": {},
   "source": [
    "### Gaussian Naive Bayes Classification"
   ]
  },
  {
   "cell_type": "code",
   "execution_count": 16,
   "id": "e53206a4",
   "metadata": {},
   "outputs": [
    {
     "data": {
      "text/plain": [
       "GaussianNB()"
      ]
     },
     "execution_count": 16,
     "metadata": {},
     "output_type": "execute_result"
    }
   ],
   "source": [
    "from sklearn.naive_bayes import GaussianNB \n",
    "gNBmodel = GaussianNB() \n",
    "gNBmodel.fit(X_train,y_train) "
   ]
  },
  {
   "cell_type": "code",
   "execution_count": 17,
   "id": "11905a6d",
   "metadata": {},
   "outputs": [
    {
     "data": {
      "text/plain": [
       "array([3., 3., 4., ..., 5., 3., 5.])"
      ]
     },
     "execution_count": 17,
     "metadata": {},
     "output_type": "execute_result"
    }
   ],
   "source": [
    "y_pred = gNBmodel.predict(X_test)\n",
    "y_pred"
   ]
  },
  {
   "cell_type": "code",
   "execution_count": 18,
   "id": "f7f018f5",
   "metadata": {},
   "outputs": [
    {
     "name": "stdout",
     "output_type": "stream",
     "text": [
      "Accuracy of Gaussian Naive Bayes on test set: 0.61\n"
     ]
    }
   ],
   "source": [
    "print('Accuracy of Gaussian Naive Bayes on test set: {:.2f}'.format\n",
    "(gNBmodel.score(X_test, y_test))) "
   ]
  },
  {
   "cell_type": "code",
   "execution_count": 19,
   "id": "65abc401",
   "metadata": {},
   "outputs": [
    {
     "name": "stdout",
     "output_type": "stream",
     "text": [
      "0.4338498826805559\n",
      "0.42874823538512113\n"
     ]
    }
   ],
   "source": [
    "from sklearn.metrics import mean_absolute_error\n",
    "y_train_pred = gNBmodel.predict(X_train) \n",
    "mae_train = mean_absolute_error(y_train, y_train_pred) \n",
    "mae_test = mean_absolute_error(y_test, y_pred) \n",
    "print(mae_train) \n",
    "print(mae_test) \n",
    "if mae_train < mae_test:\n",
    "    print(\"Overfitting is present\")\n",
    "else:\n",
    "    print(\"Underfitting is present\")"
   ]
  },
  {
   "cell_type": "code",
   "execution_count": 20,
   "id": "6ae4c4f9",
   "metadata": {},
   "outputs": [
    {
     "name": "stdout",
     "output_type": "stream",
     "text": [
      "Underfitting is present\n"
     ]
    }
   ],
   "source": [
    "if mae_train < mae_test:\n",
    "    print(\"Overfitting is present\")\n",
    "else:\n",
    "    print(\"Underfitting is present\")"
   ]
  },
  {
   "cell_type": "code",
   "execution_count": 21,
   "id": "9f7076e9",
   "metadata": {},
   "outputs": [
    {
     "data": {
      "text/plain": [
       "array([[  633,   428,   116,    32,    14,     0],\n",
       "       [  300,  1780,  1209,   640,    60,     5],\n",
       "       [   30,   794,  1884,  2691,   293,    28],\n",
       "       [   17,   139,  1077, 13561,  5278,   358],\n",
       "       [    2,     4,    25,  2354, 10240,  3605],\n",
       "       [    0,     0,     0,    12,   702,  3400]], dtype=int64)"
      ]
     },
     "execution_count": 21,
     "metadata": {},
     "output_type": "execute_result"
    }
   ],
   "source": [
    "from sklearn.metrics import confusion_matrix\n",
    "confusion_matrix(y_test, y_pred) "
   ]
  },
  {
   "cell_type": "code",
   "execution_count": 22,
   "id": "f598d18e",
   "metadata": {},
   "outputs": [
    {
     "name": "stdout",
     "output_type": "stream",
     "text": [
      "              precision    recall  f1-score   support\n",
      "\n",
      "         0.0       0.64      0.52      0.57      1223\n",
      "         1.0       0.57      0.45      0.50      3994\n",
      "         2.0       0.44      0.33      0.38      5720\n",
      "         3.0       0.70      0.66      0.68     20430\n",
      "         4.0       0.62      0.63      0.62     16230\n",
      "         5.0       0.46      0.83      0.59      4114\n",
      "\n",
      "    accuracy                           0.61     51711\n",
      "   macro avg       0.57      0.57      0.56     51711\n",
      "weighted avg       0.62      0.61      0.61     51711\n",
      "\n"
     ]
    }
   ],
   "source": [
    "from sklearn.metrics import classification_report\n",
    "print(classification_report(y_test, y_pred))"
   ]
  },
  {
   "cell_type": "code",
   "execution_count": 23,
   "id": "b112a06f",
   "metadata": {},
   "outputs": [
    {
     "data": {
      "text/plain": [
       "<sklearn.metrics._plot.confusion_matrix.ConfusionMatrixDisplay at 0x1985e8bed60>"
      ]
     },
     "execution_count": 23,
     "metadata": {},
     "output_type": "execute_result"
    },
    {
     "data": {
      "image/png": "[encoded data removed]",
      "text/plain": [
       "<Figure size 640x480 with 2 Axes>"
      ]
     },
     "metadata": {},
     "output_type": "display_data"
    }
   ],
   "source": [
    "#Analyse model performance visually\n",
    "from sklearn.metrics import ConfusionMatrixDisplay\n",
    "cm = confusion_matrix(y_test, y_pred, labels=gNBmodel.classes_)\n",
    "disp = ConfusionMatrixDisplay(confusion_matrix=cm,\n",
    "display_labels=gNBmodel.classes_)\n",
    "disp.plot()"
   ]
  },
  {
   "cell_type": "markdown",
   "id": "f562f249",
   "metadata": {},
   "source": [
    "### Multinomial Naive Bayes Classification"
   ]
  },
  {
   "cell_type": "code",
   "execution_count": 24,
   "id": "28bc2e71",
   "metadata": {},
   "outputs": [
    {
     "data": {
      "text/plain": [
       "MultinomialNB()"
      ]
     },
     "execution_count": 24,
     "metadata": {},
     "output_type": "execute_result"
    }
   ],
   "source": [
    "#Train the model\n",
    "from sklearn.naive_bayes import MultinomialNB \n",
    "mNBmodel = MultinomialNB() \n",
    "mNBmodel.fit(X_train,y_train) "
   ]
  },
  {
   "cell_type": "code",
   "execution_count": 25,
   "id": "0b8d69ce",
   "metadata": {},
   "outputs": [
    {
     "data": {
      "text/plain": [
       "array([2., 1., 5., ..., 5., 4., 5.])"
      ]
     },
     "execution_count": 25,
     "metadata": {},
     "output_type": "execute_result"
    }
   ],
   "source": [
    "y_pred = mNBmodel.predict(X_test)\n",
    "y_pred"
   ]
  },
  {
   "cell_type": "code",
   "execution_count": 26,
   "id": "ccf4caf5",
   "metadata": {},
   "outputs": [
    {
     "name": "stdout",
     "output_type": "stream",
     "text": [
      "Accuracy of Multinomial Naive Bayes on test set:0.31\n"
     ]
    }
   ],
   "source": [
    "print('Accuracy of Multinomial Naive Bayes on test set:{:.2f}'.format(mNBmodel.score(X_test, y_test))) "
   ]
  },
  {
   "cell_type": "code",
   "execution_count": 27,
   "id": "22a083a8",
   "metadata": {},
   "outputs": [
    {
     "name": "stdout",
     "output_type": "stream",
     "text": [
      "0.9864631410669623\n",
      "0.9900988184332153\n"
     ]
    }
   ],
   "source": [
    "from sklearn.metrics import mean_absolute_error\n",
    "y_train_pred = mNBmodel.predict(X_train) \n",
    "mae_train = mean_absolute_error(y_train, y_train_pred) \n",
    "mae_test = mean_absolute_error(y_test, y_pred) \n",
    "print(mae_train) \n",
    "print(mae_test)"
   ]
  },
  {
   "cell_type": "code",
   "execution_count": 28,
   "id": "32bd5acf",
   "metadata": {},
   "outputs": [
    {
     "name": "stdout",
     "output_type": "stream",
     "text": [
      "Overfitting is present\n"
     ]
    }
   ],
   "source": [
    "if mae_train < mae_test:\n",
    " print(\"Overfitting is present\") \n",
    "else: \n",
    " print(\"Underfitting is present\") "
   ]
  },
  {
   "cell_type": "code",
   "execution_count": 29,
   "id": "c987d15a",
   "metadata": {},
   "outputs": [
    {
     "data": {
      "text/plain": [
       "array([[ 687,  246,  210,   67,    8,    5],\n",
       "       [1438, 1124,  695,  561,  128,   48],\n",
       "       [ 708, 1696, 1084, 1189,  615,  428],\n",
       "       [ 628, 2617, 3531, 5921, 4117, 3616],\n",
       "       [ 135,  951, 1275, 4402, 4877, 4590],\n",
       "       [   1,   34,   52,  503, 1393, 2131]], dtype=int64)"
      ]
     },
     "execution_count": 29,
     "metadata": {},
     "output_type": "execute_result"
    }
   ],
   "source": [
    "from sklearn.metrics import confusion_matrix\n",
    "confusion_matrix(y_test, y_pred)"
   ]
  },
  {
   "cell_type": "code",
   "execution_count": 30,
   "id": "28833fe9",
   "metadata": {},
   "outputs": [
    {
     "name": "stdout",
     "output_type": "stream",
     "text": [
      "              precision    recall  f1-score   support\n",
      "\n",
      "         0.0       0.19      0.56      0.29      1223\n",
      "         1.0       0.17      0.28      0.21      3994\n",
      "         2.0       0.16      0.19      0.17      5720\n",
      "         3.0       0.47      0.29      0.36     20430\n",
      "         4.0       0.44      0.30      0.36     16230\n",
      "         5.0       0.20      0.52      0.29      4114\n",
      "\n",
      "    accuracy                           0.31     51711\n",
      "   macro avg       0.27      0.36      0.28     51711\n",
      "weighted avg       0.37      0.31      0.32     51711\n",
      "\n"
     ]
    }
   ],
   "source": [
    "from sklearn.metrics import classification_report\n",
    "print(classification_report(y_test, y_pred))"
   ]
  },
  {
   "cell_type": "code",
   "execution_count": null,
   "id": "9d75bebd",
   "metadata": {},
   "outputs": [],
   "source": []
  }
 ],
 "metadata": {
  "kernelspec": {
   "display_name": "Python 3 (ipykernel)",
   "language": "python",
   "name": "python3"
  },
  "language_info": {
   "codemirror_mode": {
    "name": "ipython",
    "version": 3
   },
   "file_extension": ".py",
   "mimetype": "text/x-python",
   "name": "python",
   "nbconvert_exporter": "python",
   "pygments_lexer": "ipython3",
   "version": "3.9.13"
  }
 },
 "nbformat": 4,
 "nbformat_minor": 5
}
