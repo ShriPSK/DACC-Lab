{
 "cells": [
  {
   "cell_type": "markdown",
   "id": "04959d5f",
   "metadata": {},
   "source": [
    "# <center> SUPPORT VECTOR MACHINE </center>"
   ]
  },
  {
   "cell_type": "code",
   "execution_count": 1,
   "id": "b224ed52",
   "metadata": {},
   "outputs": [
    {
     "data": {
      "text/html": [
       "<div>\n",
       "<style scoped>\n",
       "    .dataframe tbody tr th:only-of-type {\n",
       "        vertical-align: middle;\n",
       "    }\n",
       "\n",
       "    .dataframe tbody tr th {\n",
       "        vertical-align: top;\n",
       "    }\n",
       "\n",
       "    .dataframe thead th {\n",
       "        text-align: right;\n",
       "    }\n",
       "</style>\n",
       "<table border=\"1\" class=\"dataframe\">\n",
       "  <thead>\n",
       "    <tr style=\"text-align: right;\">\n",
       "      <th></th>\n",
       "      <th>PM2.5</th>\n",
       "      <th>PM10</th>\n",
       "      <th>NO2</th>\n",
       "      <th>SO2</th>\n",
       "      <th>O3</th>\n",
       "      <th>AQI</th>\n",
       "    </tr>\n",
       "  </thead>\n",
       "  <tbody>\n",
       "    <tr>\n",
       "      <th>0</th>\n",
       "      <td>104.00</td>\n",
       "      <td>148.50</td>\n",
       "      <td>23.00</td>\n",
       "      <td>15.30</td>\n",
       "      <td>117.62</td>\n",
       "      <td>3.0</td>\n",
       "    </tr>\n",
       "    <tr>\n",
       "      <th>1</th>\n",
       "      <td>94.50</td>\n",
       "      <td>142.00</td>\n",
       "      <td>16.25</td>\n",
       "      <td>17.00</td>\n",
       "      <td>136.23</td>\n",
       "      <td>3.0</td>\n",
       "    </tr>\n",
       "    <tr>\n",
       "      <th>2</th>\n",
       "      <td>82.75</td>\n",
       "      <td>126.50</td>\n",
       "      <td>14.83</td>\n",
       "      <td>15.40</td>\n",
       "      <td>149.92</td>\n",
       "      <td>3.0</td>\n",
       "    </tr>\n",
       "    <tr>\n",
       "      <th>3</th>\n",
       "      <td>68.50</td>\n",
       "      <td>117.00</td>\n",
       "      <td>13.60</td>\n",
       "      <td>21.80</td>\n",
       "      <td>161.70</td>\n",
       "      <td>3.0</td>\n",
       "    </tr>\n",
       "    <tr>\n",
       "      <th>4</th>\n",
       "      <td>69.25</td>\n",
       "      <td>112.25</td>\n",
       "      <td>11.80</td>\n",
       "      <td>21.38</td>\n",
       "      <td>161.68</td>\n",
       "      <td>3.0</td>\n",
       "    </tr>\n",
       "    <tr>\n",
       "      <th>...</th>\n",
       "      <td>...</td>\n",
       "      <td>...</td>\n",
       "      <td>...</td>\n",
       "      <td>...</td>\n",
       "      <td>...</td>\n",
       "      <td>...</td>\n",
       "    </tr>\n",
       "    <tr>\n",
       "      <th>129272</th>\n",
       "      <td>12.75</td>\n",
       "      <td>45.00</td>\n",
       "      <td>17.20</td>\n",
       "      <td>10.82</td>\n",
       "      <td>45.80</td>\n",
       "      <td>5.0</td>\n",
       "    </tr>\n",
       "    <tr>\n",
       "      <th>129273</th>\n",
       "      <td>10.75</td>\n",
       "      <td>36.75</td>\n",
       "      <td>17.75</td>\n",
       "      <td>4.38</td>\n",
       "      <td>50.73</td>\n",
       "      <td>4.0</td>\n",
       "    </tr>\n",
       "    <tr>\n",
       "      <th>129274</th>\n",
       "      <td>15.75</td>\n",
       "      <td>30.25</td>\n",
       "      <td>13.75</td>\n",
       "      <td>2.90</td>\n",
       "      <td>41.55</td>\n",
       "      <td>4.0</td>\n",
       "    </tr>\n",
       "    <tr>\n",
       "      <th>129275</th>\n",
       "      <td>14.00</td>\n",
       "      <td>29.50</td>\n",
       "      <td>20.70</td>\n",
       "      <td>7.12</td>\n",
       "      <td>39.23</td>\n",
       "      <td>4.0</td>\n",
       "    </tr>\n",
       "    <tr>\n",
       "      <th>129276</th>\n",
       "      <td>9.75</td>\n",
       "      <td>24.25</td>\n",
       "      <td>23.85</td>\n",
       "      <td>8.45</td>\n",
       "      <td>34.78</td>\n",
       "      <td>4.0</td>\n",
       "    </tr>\n",
       "  </tbody>\n",
       "</table>\n",
       "<p>129277 rows × 6 columns</p>\n",
       "</div>"
      ],
      "text/plain": [
       "         PM2.5    PM10    NO2    SO2      O3  AQI\n",
       "0       104.00  148.50  23.00  15.30  117.62  3.0\n",
       "1        94.50  142.00  16.25  17.00  136.23  3.0\n",
       "2        82.75  126.50  14.83  15.40  149.92  3.0\n",
       "3        68.50  117.00  13.60  21.80  161.70  3.0\n",
       "4        69.25  112.25  11.80  21.38  161.68  3.0\n",
       "...        ...     ...    ...    ...     ...  ...\n",
       "129272   12.75   45.00  17.20  10.82   45.80  5.0\n",
       "129273   10.75   36.75  17.75   4.38   50.73  4.0\n",
       "129274   15.75   30.25  13.75   2.90   41.55  4.0\n",
       "129275   14.00   29.50  20.70   7.12   39.23  4.0\n",
       "129276    9.75   24.25  23.85   8.45   34.78  4.0\n",
       "\n",
       "[129277 rows x 6 columns]"
      ]
     },
     "execution_count": 1,
     "metadata": {},
     "output_type": "execute_result"
    }
   ],
   "source": [
    "import pandas as pd\n",
    "import numpy as np\n",
    "df=pd.read_csv(\"dataset.csv\")\n",
    "df"
   ]
  },
  {
   "cell_type": "code",
   "execution_count": 2,
   "id": "cdb30787",
   "metadata": {},
   "outputs": [
    {
     "name": "stdout",
     "output_type": "stream",
     "text": [
      "<class 'pandas.core.frame.DataFrame'>\n",
      "RangeIndex: 129277 entries, 0 to 129276\n",
      "Data columns (total 5 columns):\n",
      " #   Column  Non-Null Count   Dtype  \n",
      "---  ------  --------------   -----  \n",
      " 0   PM2.5   129277 non-null  float64\n",
      " 1   PM10    129277 non-null  float64\n",
      " 2   NO2     129277 non-null  float64\n",
      " 3   SO2     129277 non-null  float64\n",
      " 4   O3      129277 non-null  float64\n",
      "dtypes: float64(5)\n",
      "memory usage: 4.9 MB\n"
     ]
    }
   ],
   "source": [
    "cols=['PM2.5',\"PM10\",\"NO2\",\"SO2\",\"O3\"]\n",
    "X=df[cols]\n",
    "y=df['AQI']\n",
    "X.info()"
   ]
  },
  {
   "cell_type": "code",
   "execution_count": 3,
   "id": "239cd424",
   "metadata": {},
   "outputs": [],
   "source": [
    "#Split into train and test set\n",
    "from sklearn.model_selection import train_test_split \n",
    "X_train, X_test, y_train, y_test = train_test_split(X, y, test_size=0.2, random_state=40) "
   ]
  },
  {
   "cell_type": "code",
   "execution_count": 4,
   "id": "894c13d1",
   "metadata": {},
   "outputs": [
    {
     "name": "stdout",
     "output_type": "stream",
     "text": [
      "Model accuracy score with default hyperparameters: 0.6655\n"
     ]
    }
   ],
   "source": [
    "from sklearn.svm import SVC\n",
    "from sklearn.metrics import accuracy_score \n",
    "svc=SVC() \n",
    "svc.fit(X_train,y_train) \n",
    "y_pred=svc.predict(X_test) \n",
    "print('Model accuracy score with default hyperparameters: {0:0.4f}'. \n",
    "format(accuracy_score(y_test, y_pred))) "
   ]
  },
  {
   "cell_type": "code",
   "execution_count": 5,
   "id": "3356d82e",
   "metadata": {},
   "outputs": [
    {
     "name": "stdout",
     "output_type": "stream",
     "text": [
      "0.35996557759062475\n",
      "0.36107673267326734\n",
      "Overfitting is present\n"
     ]
    }
   ],
   "source": [
    "from sklearn.metrics import mean_absolute_error\n",
    "y_train_pred = svc.predict(X_train) \n",
    "mae_train = mean_absolute_error(y_train, y_train_pred) \n",
    "mae_test = mean_absolute_error(y_test, y_pred) \n",
    "print(mae_train) \n",
    "print(mae_test) \n",
    "if mae_train < mae_test:\n",
    "    print(\"Overfitting is present\")\n",
    "else:\n",
    "    print(\"Underfitting is present\")"
   ]
  },
  {
   "cell_type": "code",
   "execution_count": 6,
   "id": "9467dc7a",
   "metadata": {},
   "outputs": [
    {
     "name": "stdout",
     "output_type": "stream",
     "text": [
      "              precision    recall  f1-score   support\n",
      "\n",
      "         0.0       0.81      0.49      0.61       615\n",
      "         1.0       0.65      0.56      0.60      1988\n",
      "         2.0       0.54      0.35      0.42      2942\n",
      "         3.0       0.69      0.78      0.73     10093\n",
      "         4.0       0.67      0.73      0.70      8158\n",
      "         5.0       0.66      0.46      0.54      2060\n",
      "\n",
      "    accuracy                           0.67     25856\n",
      "   macro avg       0.67      0.56      0.60     25856\n",
      "weighted avg       0.66      0.67      0.66     25856\n",
      "\n"
     ]
    }
   ],
   "source": [
    "from sklearn.metrics import classification_report\n",
    "print(classification_report(y_test, y_pred))"
   ]
  },
  {
   "cell_type": "code",
   "execution_count": 7,
   "id": "15fbc0e5",
   "metadata": {},
   "outputs": [
    {
     "data": {
      "text/plain": [
       "array([[ 303,  247,   39,   20,    6,    0],\n",
       "       [  57, 1107,  471,  334,   17,    2],\n",
       "       [   8,  321, 1022, 1487,  101,    3],\n",
       "       [   4,   39,  374, 7855, 1780,   41],\n",
       "       [   1,    1,    2, 1731, 5972,  451],\n",
       "       [   0,    0,    0,    7, 1104,  949]], dtype=int64)"
      ]
     },
     "execution_count": 7,
     "metadata": {},
     "output_type": "execute_result"
    }
   ],
   "source": [
    "from sklearn.metrics import confusion_matrix\n",
    "confusion_matrix(y_test, y_pred)"
   ]
  },
  {
   "cell_type": "code",
   "execution_count": null,
   "id": "0b202aaa",
   "metadata": {},
   "outputs": [],
   "source": []
  }
 ],
 "metadata": {
  "kernelspec": {
   "display_name": "Python 3 (ipykernel)",
   "language": "python",
   "name": "python3"
  },
  "language_info": {
   "codemirror_mode": {
    "name": "ipython",
    "version": 3
   },
   "file_extension": ".py",
   "mimetype": "text/x-python",
   "name": "python",
   "nbconvert_exporter": "python",
   "pygments_lexer": "ipython3",
   "version": "3.9.13"
  }
 },
 "nbformat": 4,
 "nbformat_minor": 5
}
