{
 "cells": [
  {
   "cell_type": "markdown",
   "id": "4712a4df",
   "metadata": {},
   "source": [
    "# <center>Reading data from text file</center>"
   ]
  },
  {
   "cell_type": "code",
   "execution_count": 23,
   "id": "f89437e3",
   "metadata": {},
   "outputs": [
    {
     "data": {
      "text/plain": [
       "'Welcome to Data Analytics Laboratory'"
      ]
     },
     "execution_count": 23,
     "metadata": {},
     "output_type": "execute_result"
    }
   ],
   "source": [
    "file1 = open(\"file.txt\",\"r\")\n",
    "file1.read()"
   ]
  },
  {
   "cell_type": "markdown",
   "id": "0fbf63f5",
   "metadata": {},
   "source": [
    "# <center>Reading data from CSV file</center>"
   ]
  },
  {
   "cell_type": "code",
   "execution_count": 24,
   "id": "9866b340",
   "metadata": {},
   "outputs": [
    {
     "name": "stdout",
     "output_type": "stream",
     "text": [
      "['Number', 'Square']\n",
      "['1', '1']\n",
      "['2', '4']\n",
      "['3', '9']\n",
      "['4', '16']\n",
      "['5', '25']\n"
     ]
    }
   ],
   "source": [
    "import csv\n",
    "with open(\"sample.csv\",'r') as file:\n",
    "    reader=csv.reader(file)\n",
    "    for i in reader:\n",
    "        print(i)"
   ]
  },
  {
   "cell_type": "markdown",
   "id": "30716844",
   "metadata": {},
   "source": [
    "# <center>Reading data from web</center>"
   ]
  },
  {
   "cell_type": "code",
   "execution_count": 22,
   "id": "281fb7ad",
   "metadata": {},
   "outputs": [
    {
     "name": "stdout",
     "output_type": "stream",
     "text": [
      "In 1949,Shri.C.Rajam, gave the newly independent India-Madras Institute of Technology, so that MIT could establish the strong technical base it needed to take its place in the world. It was the rare genius and daring of its founder that made MIT offer courses like Aeronautical Engineering, Automobile Engineering, Electronics Engineering and Instrument Technology for the first time in our country. Now it also provides technical education in other engineering fields such as Rubber and Plastic Technology & Production Technology. It was merged with Anna University in the year 1978. Sixty years hence, while it continues to be a pioneer in courses that it gave birth to, it is already renowned for producing the crème de la crème of the scientific community in more nascent courses such as Computer Science and Information Technology MIT has produced great scientist like Dr.A.P.J.Abdul Kalam, versatile genius like Sujatha and many more. The broad-based education, coupled with practice-oriented training in their speciality, has enabled the students of MIT to handle with skill and success a wide variety of technical problems. The Madras Institute of Technology has developed into an important centre of engineering education and earned an excellent reputation both in India and abroad.MIT had received many awards which includes an award for the Best Overall Performance, awarded by Indian Society of Technical Education (ISTE) during the year 1999.\n",
      "Copyright © 2016. All Rights Reserved. Commercial use and distribution of the contents of the website is not allowed without express and prior written consent of Madras Institute of Technology.No part of this website may be reproduced without Prior Notice.\n",
      "Designed And Maintained by WebTeam MitIndia  \n"
     ]
    }
   ],
   "source": [
    "import requests\n",
    "from bs4 import BeautifulSoup\n",
    "r = requests.get(\"https://www.mitindia.edu/en/\")\n",
    "soup = BeautifulSoup (r.content, 'html.parser')\n",
    "lines = soup.find_all('p')\n",
    "for line in lines:\n",
    "    print(line.text)"
   ]
  }
 ],
 "metadata": {
  "kernelspec": {
   "display_name": "Python 3 (ipykernel)",
   "language": "python",
   "name": "python3"
  },
  "language_info": {
   "codemirror_mode": {
    "name": "ipython",
    "version": 3
   },
   "file_extension": ".py",
   "mimetype": "text/x-python",
   "name": "python",
   "nbconvert_exporter": "python",
   "pygments_lexer": "ipython3",
   "version": "3.9.13"
  }
 },
 "nbformat": 4,
 "nbformat_minor": 5
}
