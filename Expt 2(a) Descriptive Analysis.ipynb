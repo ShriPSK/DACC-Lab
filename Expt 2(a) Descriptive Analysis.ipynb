{
 "cells": [
  {
   "cell_type": "markdown",
   "id": "338e0706",
   "metadata": {},
   "source": [
    "# <CENTER>DESCRIPTIVE ANALYSIS OF THE DATASET</CENTER>"
   ]
  },
  {
   "cell_type": "markdown",
   "id": "06ceddbc",
   "metadata": {},
   "source": [
    "## IMPORTING NECESSARY PACKAGES AND DATASET:"
   ]
  },
  {
   "cell_type": "code",
   "execution_count": 1,
   "id": "98fdc816",
   "metadata": {},
   "outputs": [
    {
     "data": {
      "text/html": [
       "<div>\n",
       "<style scoped>\n",
       "    .dataframe tbody tr th:only-of-type {\n",
       "        vertical-align: middle;\n",
       "    }\n",
       "\n",
       "    .dataframe tbody tr th {\n",
       "        vertical-align: top;\n",
       "    }\n",
       "\n",
       "    .dataframe thead th {\n",
       "        text-align: right;\n",
       "    }\n",
       "</style>\n",
       "<table border=\"1\" class=\"dataframe\">\n",
       "  <thead>\n",
       "    <tr style=\"text-align: right;\">\n",
       "      <th></th>\n",
       "      <th>PM2.5</th>\n",
       "      <th>PM10</th>\n",
       "      <th>NO2</th>\n",
       "      <th>SO2</th>\n",
       "      <th>O3</th>\n",
       "      <th>AQI_Bucket</th>\n",
       "    </tr>\n",
       "  </thead>\n",
       "  <tbody>\n",
       "    <tr>\n",
       "      <th>0</th>\n",
       "      <td>NaN</td>\n",
       "      <td>NaN</td>\n",
       "      <td>40.01</td>\n",
       "      <td>122.07</td>\n",
       "      <td>NaN</td>\n",
       "      <td>NaN</td>\n",
       "    </tr>\n",
       "    <tr>\n",
       "      <th>1</th>\n",
       "      <td>NaN</td>\n",
       "      <td>NaN</td>\n",
       "      <td>27.75</td>\n",
       "      <td>85.90</td>\n",
       "      <td>NaN</td>\n",
       "      <td>NaN</td>\n",
       "    </tr>\n",
       "    <tr>\n",
       "      <th>2</th>\n",
       "      <td>NaN</td>\n",
       "      <td>NaN</td>\n",
       "      <td>19.32</td>\n",
       "      <td>52.83</td>\n",
       "      <td>NaN</td>\n",
       "      <td>NaN</td>\n",
       "    </tr>\n",
       "    <tr>\n",
       "      <th>3</th>\n",
       "      <td>NaN</td>\n",
       "      <td>NaN</td>\n",
       "      <td>16.45</td>\n",
       "      <td>39.53</td>\n",
       "      <td>153.58</td>\n",
       "      <td>NaN</td>\n",
       "    </tr>\n",
       "    <tr>\n",
       "      <th>4</th>\n",
       "      <td>NaN</td>\n",
       "      <td>NaN</td>\n",
       "      <td>14.90</td>\n",
       "      <td>32.63</td>\n",
       "      <td>NaN</td>\n",
       "      <td>NaN</td>\n",
       "    </tr>\n",
       "  </tbody>\n",
       "</table>\n",
       "</div>"
      ],
      "text/plain": [
       "   PM2.5  PM10    NO2     SO2      O3 AQI_Bucket\n",
       "0    NaN   NaN  40.01  122.07     NaN        NaN\n",
       "1    NaN   NaN  27.75   85.90     NaN        NaN\n",
       "2    NaN   NaN  19.32   52.83     NaN        NaN\n",
       "3    NaN   NaN  16.45   39.53  153.58        NaN\n",
       "4    NaN   NaN  14.90   32.63     NaN        NaN"
      ]
     },
     "execution_count": 1,
     "metadata": {},
     "output_type": "execute_result"
    }
   ],
   "source": [
    "import pandas as pd;\n",
    "df=pd.read_csv(\"archive/city_hour.csv\");\n",
    "df=df[[\"PM2.5\",\"PM10\",\"NO2\",\"SO2\",\"O3\",\"AQI_Bucket\"]]\n",
    "df.head()"
   ]
  },
  {
   "cell_type": "markdown",
   "id": "9b4b5af9",
   "metadata": {},
   "source": [
    "## GETTING INFORMATION ABOUT THE DATASET"
   ]
  },
  {
   "cell_type": "code",
   "execution_count": 2,
   "id": "e14a6465",
   "metadata": {},
   "outputs": [
    {
     "data": {
      "text/plain": [
       "(707875, 6)"
      ]
     },
     "execution_count": 2,
     "metadata": {},
     "output_type": "execute_result"
    }
   ],
   "source": [
    "df.shape"
   ]
  },
  {
   "cell_type": "code",
   "execution_count": 3,
   "id": "1ddbe757",
   "metadata": {
    "scrolled": true
   },
   "outputs": [
    {
     "name": "stdout",
     "output_type": "stream",
     "text": [
      "<class 'pandas.core.frame.DataFrame'>\n",
      "RangeIndex: 707875 entries, 0 to 707874\n",
      "Data columns (total 6 columns):\n",
      " #   Column      Non-Null Count   Dtype  \n",
      "---  ------      --------------   -----  \n",
      " 0   PM2.5       562787 non-null  float64\n",
      " 1   PM10        411138 non-null  float64\n",
      " 2   NO2         590753 non-null  float64\n",
      " 3   SO2         577502 non-null  float64\n",
      " 4   O3          578667 non-null  float64\n",
      " 5   AQI_Bucket  578795 non-null  object \n",
      "dtypes: float64(5), object(1)\n",
      "memory usage: 32.4+ MB\n"
     ]
    }
   ],
   "source": [
    "df.info()"
   ]
  },
  {
   "cell_type": "code",
   "execution_count": 4,
   "id": "53298a9d",
   "metadata": {},
   "outputs": [
    {
     "data": {
      "text/html": [
       "<div>\n",
       "<style scoped>\n",
       "    .dataframe tbody tr th:only-of-type {\n",
       "        vertical-align: middle;\n",
       "    }\n",
       "\n",
       "    .dataframe tbody tr th {\n",
       "        vertical-align: top;\n",
       "    }\n",
       "\n",
       "    .dataframe thead th {\n",
       "        text-align: right;\n",
       "    }\n",
       "</style>\n",
       "<table border=\"1\" class=\"dataframe\">\n",
       "  <thead>\n",
       "    <tr style=\"text-align: right;\">\n",
       "      <th></th>\n",
       "      <th>PM2.5</th>\n",
       "      <th>PM10</th>\n",
       "      <th>NO2</th>\n",
       "      <th>SO2</th>\n",
       "      <th>O3</th>\n",
       "    </tr>\n",
       "  </thead>\n",
       "  <tbody>\n",
       "    <tr>\n",
       "      <th>count</th>\n",
       "      <td>562787.000000</td>\n",
       "      <td>411138.000000</td>\n",
       "      <td>590753.000000</td>\n",
       "      <td>577502.000000</td>\n",
       "      <td>578667.000000</td>\n",
       "    </tr>\n",
       "    <tr>\n",
       "      <th>mean</th>\n",
       "      <td>67.622994</td>\n",
       "      <td>119.075804</td>\n",
       "      <td>28.885157</td>\n",
       "      <td>14.038307</td>\n",
       "      <td>34.798979</td>\n",
       "    </tr>\n",
       "    <tr>\n",
       "      <th>std</th>\n",
       "      <td>74.730496</td>\n",
       "      <td>104.224752</td>\n",
       "      <td>29.162194</td>\n",
       "      <td>19.305540</td>\n",
       "      <td>29.806379</td>\n",
       "    </tr>\n",
       "    <tr>\n",
       "      <th>min</th>\n",
       "      <td>0.010000</td>\n",
       "      <td>0.010000</td>\n",
       "      <td>0.010000</td>\n",
       "      <td>0.010000</td>\n",
       "      <td>0.010000</td>\n",
       "    </tr>\n",
       "    <tr>\n",
       "      <th>25%</th>\n",
       "      <td>26.200000</td>\n",
       "      <td>52.380000</td>\n",
       "      <td>10.810000</td>\n",
       "      <td>4.880000</td>\n",
       "      <td>13.420000</td>\n",
       "    </tr>\n",
       "    <tr>\n",
       "      <th>50%</th>\n",
       "      <td>46.420000</td>\n",
       "      <td>91.500000</td>\n",
       "      <td>20.320000</td>\n",
       "      <td>8.370000</td>\n",
       "      <td>26.240000</td>\n",
       "    </tr>\n",
       "    <tr>\n",
       "      <th>75%</th>\n",
       "      <td>79.490000</td>\n",
       "      <td>147.520000</td>\n",
       "      <td>36.350000</td>\n",
       "      <td>14.780000</td>\n",
       "      <td>47.620000</td>\n",
       "    </tr>\n",
       "    <tr>\n",
       "      <th>max</th>\n",
       "      <td>999.990000</td>\n",
       "      <td>1000.000000</td>\n",
       "      <td>499.510000</td>\n",
       "      <td>199.960000</td>\n",
       "      <td>497.620000</td>\n",
       "    </tr>\n",
       "  </tbody>\n",
       "</table>\n",
       "</div>"
      ],
      "text/plain": [
       "               PM2.5           PM10            NO2            SO2  \\\n",
       "count  562787.000000  411138.000000  590753.000000  577502.000000   \n",
       "mean       67.622994     119.075804      28.885157      14.038307   \n",
       "std        74.730496     104.224752      29.162194      19.305540   \n",
       "min         0.010000       0.010000       0.010000       0.010000   \n",
       "25%        26.200000      52.380000      10.810000       4.880000   \n",
       "50%        46.420000      91.500000      20.320000       8.370000   \n",
       "75%        79.490000     147.520000      36.350000      14.780000   \n",
       "max       999.990000    1000.000000     499.510000     199.960000   \n",
       "\n",
       "                  O3  \n",
       "count  578667.000000  \n",
       "mean       34.798979  \n",
       "std        29.806379  \n",
       "min         0.010000  \n",
       "25%        13.420000  \n",
       "50%        26.240000  \n",
       "75%        47.620000  \n",
       "max       497.620000  "
      ]
     },
     "execution_count": 4,
     "metadata": {},
     "output_type": "execute_result"
    }
   ],
   "source": [
    "df.describe()"
   ]
  },
  {
   "cell_type": "markdown",
   "id": "35737605",
   "metadata": {},
   "source": [
    "## CHECKING MISSING VALUES"
   ]
  },
  {
   "cell_type": "code",
   "execution_count": 5,
   "id": "611ac479",
   "metadata": {
    "scrolled": true
   },
   "outputs": [
    {
     "data": {
      "text/plain": [
       "PM2.5         145088\n",
       "PM10          296737\n",
       "NO2           117122\n",
       "SO2           130373\n",
       "O3            129208\n",
       "AQI_Bucket    129080\n",
       "dtype: int64"
      ]
     },
     "execution_count": 5,
     "metadata": {},
     "output_type": "execute_result"
    }
   ],
   "source": [
    "df.isnull().sum()"
   ]
  },
  {
   "cell_type": "code",
   "execution_count": 6,
   "id": "1f1184c6",
   "metadata": {},
   "outputs": [
    {
     "data": {
      "text/html": [
       "<div>\n",
       "<style scoped>\n",
       "    .dataframe tbody tr th:only-of-type {\n",
       "        vertical-align: middle;\n",
       "    }\n",
       "\n",
       "    .dataframe tbody tr th {\n",
       "        vertical-align: top;\n",
       "    }\n",
       "\n",
       "    .dataframe thead th {\n",
       "        text-align: right;\n",
       "    }\n",
       "</style>\n",
       "<table border=\"1\" class=\"dataframe\">\n",
       "  <thead>\n",
       "    <tr style=\"text-align: right;\">\n",
       "      <th></th>\n",
       "      <th>PM2.5</th>\n",
       "      <th>PM10</th>\n",
       "      <th>NO2</th>\n",
       "      <th>SO2</th>\n",
       "      <th>O3</th>\n",
       "      <th>AQI_Bucket</th>\n",
       "    </tr>\n",
       "  </thead>\n",
       "  <tbody>\n",
       "    <tr>\n",
       "      <th>38289</th>\n",
       "      <td>25.91</td>\n",
       "      <td>84.90</td>\n",
       "      <td>58.41</td>\n",
       "      <td>140.10</td>\n",
       "      <td>47.69</td>\n",
       "      <td>Poor</td>\n",
       "    </tr>\n",
       "    <tr>\n",
       "      <th>38290</th>\n",
       "      <td>27.27</td>\n",
       "      <td>98.29</td>\n",
       "      <td>71.93</td>\n",
       "      <td>144.20</td>\n",
       "      <td>71.96</td>\n",
       "      <td>Poor</td>\n",
       "    </tr>\n",
       "    <tr>\n",
       "      <th>38291</th>\n",
       "      <td>27.27</td>\n",
       "      <td>102.68</td>\n",
       "      <td>66.79</td>\n",
       "      <td>124.37</td>\n",
       "      <td>88.85</td>\n",
       "      <td>Poor</td>\n",
       "    </tr>\n",
       "    <tr>\n",
       "      <th>38292</th>\n",
       "      <td>27.30</td>\n",
       "      <td>102.68</td>\n",
       "      <td>60.64</td>\n",
       "      <td>170.01</td>\n",
       "      <td>97.76</td>\n",
       "      <td>Poor</td>\n",
       "    </tr>\n",
       "    <tr>\n",
       "      <th>38294</th>\n",
       "      <td>23.84</td>\n",
       "      <td>121.94</td>\n",
       "      <td>70.40</td>\n",
       "      <td>31.13</td>\n",
       "      <td>94.66</td>\n",
       "      <td>Poor</td>\n",
       "    </tr>\n",
       "  </tbody>\n",
       "</table>\n",
       "</div>"
      ],
      "text/plain": [
       "       PM2.5    PM10    NO2     SO2     O3 AQI_Bucket\n",
       "38289  25.91   84.90  58.41  140.10  47.69       Poor\n",
       "38290  27.27   98.29  71.93  144.20  71.96       Poor\n",
       "38291  27.27  102.68  66.79  124.37  88.85       Poor\n",
       "38292  27.30  102.68  60.64  170.01  97.76       Poor\n",
       "38294  23.84  121.94  70.40   31.13  94.66       Poor"
      ]
     },
     "execution_count": 6,
     "metadata": {},
     "output_type": "execute_result"
    }
   ],
   "source": [
    "df=df.dropna()\n",
    "df.head()"
   ]
  },
  {
   "cell_type": "markdown",
   "id": "10ac5ce3",
   "metadata": {},
   "source": [
    "## CHECKING DUPLICATES"
   ]
  },
  {
   "cell_type": "code",
   "execution_count": 7,
   "id": "8dae3f6c",
   "metadata": {},
   "outputs": [
    {
     "data": {
      "text/html": [
       "<div>\n",
       "<style scoped>\n",
       "    .dataframe tbody tr th:only-of-type {\n",
       "        vertical-align: middle;\n",
       "    }\n",
       "\n",
       "    .dataframe tbody tr th {\n",
       "        vertical-align: top;\n",
       "    }\n",
       "\n",
       "    .dataframe thead th {\n",
       "        text-align: right;\n",
       "    }\n",
       "</style>\n",
       "<table border=\"1\" class=\"dataframe\">\n",
       "  <thead>\n",
       "    <tr style=\"text-align: right;\">\n",
       "      <th></th>\n",
       "      <th>PM2.5</th>\n",
       "      <th>PM10</th>\n",
       "      <th>NO2</th>\n",
       "      <th>SO2</th>\n",
       "      <th>O3</th>\n",
       "      <th>AQI_Bucket</th>\n",
       "    </tr>\n",
       "  </thead>\n",
       "  <tbody>\n",
       "    <tr>\n",
       "      <th>38289</th>\n",
       "      <td>25.91</td>\n",
       "      <td>84.90</td>\n",
       "      <td>58.41</td>\n",
       "      <td>140.10</td>\n",
       "      <td>47.69</td>\n",
       "      <td>Poor</td>\n",
       "    </tr>\n",
       "    <tr>\n",
       "      <th>38290</th>\n",
       "      <td>27.27</td>\n",
       "      <td>98.29</td>\n",
       "      <td>71.93</td>\n",
       "      <td>144.20</td>\n",
       "      <td>71.96</td>\n",
       "      <td>Poor</td>\n",
       "    </tr>\n",
       "    <tr>\n",
       "      <th>38291</th>\n",
       "      <td>27.27</td>\n",
       "      <td>102.68</td>\n",
       "      <td>66.79</td>\n",
       "      <td>124.37</td>\n",
       "      <td>88.85</td>\n",
       "      <td>Poor</td>\n",
       "    </tr>\n",
       "    <tr>\n",
       "      <th>38292</th>\n",
       "      <td>27.30</td>\n",
       "      <td>102.68</td>\n",
       "      <td>60.64</td>\n",
       "      <td>170.01</td>\n",
       "      <td>97.76</td>\n",
       "      <td>Poor</td>\n",
       "    </tr>\n",
       "    <tr>\n",
       "      <th>38294</th>\n",
       "      <td>23.84</td>\n",
       "      <td>121.94</td>\n",
       "      <td>70.40</td>\n",
       "      <td>31.13</td>\n",
       "      <td>94.66</td>\n",
       "      <td>Poor</td>\n",
       "    </tr>\n",
       "    <tr>\n",
       "      <th>...</th>\n",
       "      <td>...</td>\n",
       "      <td>...</td>\n",
       "      <td>...</td>\n",
       "      <td>...</td>\n",
       "      <td>...</td>\n",
       "      <td>...</td>\n",
       "    </tr>\n",
       "    <tr>\n",
       "      <th>707869</th>\n",
       "      <td>8.25</td>\n",
       "      <td>33.25</td>\n",
       "      <td>24.05</td>\n",
       "      <td>1.85</td>\n",
       "      <td>41.38</td>\n",
       "      <td>Satisfactory</td>\n",
       "    </tr>\n",
       "    <tr>\n",
       "      <th>707871</th>\n",
       "      <td>17.25</td>\n",
       "      <td>49.25</td>\n",
       "      <td>33.20</td>\n",
       "      <td>2.02</td>\n",
       "      <td>25.58</td>\n",
       "      <td>Satisfactory</td>\n",
       "    </tr>\n",
       "    <tr>\n",
       "      <th>707872</th>\n",
       "      <td>36.00</td>\n",
       "      <td>71.00</td>\n",
       "      <td>30.80</td>\n",
       "      <td>1.77</td>\n",
       "      <td>26.15</td>\n",
       "      <td>Good</td>\n",
       "    </tr>\n",
       "    <tr>\n",
       "      <th>707873</th>\n",
       "      <td>15.75</td>\n",
       "      <td>63.00</td>\n",
       "      <td>28.90</td>\n",
       "      <td>0.75</td>\n",
       "      <td>15.82</td>\n",
       "      <td>Good</td>\n",
       "    </tr>\n",
       "    <tr>\n",
       "      <th>707874</th>\n",
       "      <td>15.00</td>\n",
       "      <td>66.00</td>\n",
       "      <td>26.85</td>\n",
       "      <td>2.10</td>\n",
       "      <td>17.05</td>\n",
       "      <td>Good</td>\n",
       "    </tr>\n",
       "  </tbody>\n",
       "</table>\n",
       "<p>347512 rows × 6 columns</p>\n",
       "</div>"
      ],
      "text/plain": [
       "        PM2.5    PM10    NO2     SO2     O3    AQI_Bucket\n",
       "38289   25.91   84.90  58.41  140.10  47.69          Poor\n",
       "38290   27.27   98.29  71.93  144.20  71.96          Poor\n",
       "38291   27.27  102.68  66.79  124.37  88.85          Poor\n",
       "38292   27.30  102.68  60.64  170.01  97.76          Poor\n",
       "38294   23.84  121.94  70.40   31.13  94.66          Poor\n",
       "...       ...     ...    ...     ...    ...           ...\n",
       "707869   8.25   33.25  24.05    1.85  41.38  Satisfactory\n",
       "707871  17.25   49.25  33.20    2.02  25.58  Satisfactory\n",
       "707872  36.00   71.00  30.80    1.77  26.15          Good\n",
       "707873  15.75   63.00  28.90    0.75  15.82          Good\n",
       "707874  15.00   66.00  26.85    2.10  17.05          Good\n",
       "\n",
       "[347512 rows x 6 columns]"
      ]
     },
     "execution_count": 7,
     "metadata": {},
     "output_type": "execute_result"
    }
   ],
   "source": [
    "dup=df.drop_duplicates()\n",
    "dup"
   ]
  },
  {
   "cell_type": "code",
   "execution_count": 8,
   "id": "4c54b030",
   "metadata": {},
   "outputs": [
    {
     "data": {
      "text/plain": [
       "AQI_Bucket\n",
       "Satisfactory    125448\n",
       "Moderate        124879\n",
       "Poor             35861\n",
       "Good             26480\n",
       "Very Poor        25241\n",
       "Severe            9648\n",
       "dtype: int64"
      ]
     },
     "execution_count": 8,
     "metadata": {},
     "output_type": "execute_result"
    }
   ],
   "source": [
    "df.value_counts(\"AQI_Bucket\")"
   ]
  },
  {
   "cell_type": "markdown",
   "id": "48bcc146",
   "metadata": {},
   "source": [
    "# <center>Data Visualization using countplot</center>"
   ]
  },
  {
   "cell_type": "code",
   "execution_count": 9,
   "id": "d955bbbd",
   "metadata": {},
   "outputs": [
    {
     "data": {
      "image/png": "[encoded data removed]",
      "text/plain": [
       "<Figure size 640x480 with 1 Axes>"
      ]
     },
     "metadata": {},
     "output_type": "display_data"
    }
   ],
   "source": [
    "import seaborn as sns\n",
    "import matplotlib.pyplot as plt\n",
    "sns.countplot(x='AQI_Bucket', data=df, )\n",
    "plt.show()"
   ]
  },
  {
   "cell_type": "markdown",
   "id": "8fcc8cc8",
   "metadata": {},
   "source": [
    "# <center>Data Visualization using scatterplot</center>"
   ]
  },
  {
   "cell_type": "code",
   "execution_count": 10,
   "id": "2e32cb6e",
   "metadata": {},
   "outputs": [
    {
     "data": {
      "image/png": "[encoded data removed]",
      "text/plain": [
       "<Figure size 640x480 with 1 Axes>"
      ]
     },
     "metadata": {},
     "output_type": "display_data"
    }
   ],
   "source": [
    "sns.scatterplot(x='NO2', y='SO2', hue='AQI_Bucket', data=df.head(50), )\n",
    "plt.legend(bbox_to_anchor=(1, 1), loc=2)\n",
    "plt.show()"
   ]
  },
  {
   "cell_type": "markdown",
   "id": "9936b73d",
   "metadata": {},
   "source": [
    "# <center>Data Visualization using pairplot</center>"
   ]
  },
  {
   "cell_type": "markdown",
   "id": "2abc2d30",
   "metadata": {},
   "source": [
    "# <center>Data Visualization using histogram</center>"
   ]
  },
  {
   "cell_type": "code",
   "execution_count": 11,
   "id": "cc832eeb",
   "metadata": {},
   "outputs": [
    {
     "data": {
      "image/png": "[encoded data removed]",
      "text/plain": [
       "<Figure size 1000x1000 with 4 Axes>"
      ]
     },
     "metadata": {},
     "output_type": "display_data"
    }
   ],
   "source": [
    "fig, axes = plt.subplots(2, 2, figsize=(10,10))\n",
    "axes[0,0].set_title(\"PM2.5\")\n",
    "axes[0,0].hist(df['PM2.5'], bins=10)\n",
    "axes[0,1].set_title(\"PM10\")\n",
    "axes[0,1].hist(df['PM10'], bins=10);\n",
    "axes[1,0].set_title(\"NO2\")\n",
    "axes[1,0].hist(df['NO2'], bins=10);\n",
    "axes[1,0].set_title(\"SO2\")\n",
    "axes[1,0].hist(df['SO2'], bins=10);\n",
    "axes[1,1].set_title(\"O3\")\n",
    "axes[1,1].hist(df['O3'], bins=10);"
   ]
  },
  {
   "cell_type": "code",
   "execution_count": null,
   "id": "47e418c9",
   "metadata": {},
   "outputs": [],
   "source": []
  }
 ],
 "metadata": {
  "kernelspec": {
   "display_name": "Python 3 (ipykernel)",
   "language": "python",
   "name": "python3"
  },
  "language_info": {
   "codemirror_mode": {
    "name": "ipython",
    "version": 3
   },
   "file_extension": ".py",
   "mimetype": "text/x-python",
   "name": "python",
   "nbconvert_exporter": "python",
   "pygments_lexer": "ipython3",
   "version": "3.9.13"
  }
 },
 "nbformat": 4,
 "nbformat_minor": 5
}
