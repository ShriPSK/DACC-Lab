{
 "cells": [
  {
   "cell_type": "markdown",
   "id": "a0da9fb4",
   "metadata": {},
   "source": [
    "# COMMON TEMPLATE FOR CLASSIFICATION AND REGRESSION"
   ]
  },
  {
   "cell_type": "code",
   "execution_count": null,
   "id": "fdf26167",
   "metadata": {},
   "outputs": [],
   "source": [
    "import pandas as pd\n",
    "df = pd.read_csv(dataset)"
   ]
  },
  {
   "cell_type": "markdown",
   "id": "f560c2cc",
   "metadata": {},
   "source": [
    "### DATA PREPROCESSING"
   ]
  },
  {
   "cell_type": "code",
   "execution_count": null,
   "id": "72ab4fe2",
   "metadata": {},
   "outputs": [],
   "source": [
    "from sklearn import preprocessing\n",
    "#Feature scaling - min max scaling\n",
    "from sklearn.preprocessing import MinMaxScaler\n",
    "scaler = MinMaxScaler()\n",
    "scaled = scaler.fit_transform(df)\n",
    "encD = pd.DataFrame(scaled, columns=df.columns)\n",
    "# encD=df\n",
    "encD.head()"
   ]
  },
  {
   "cell_type": "markdown",
   "id": "9fb3cd84",
   "metadata": {},
   "source": [
    "### TRAINING MODEL"
   ]
  },
  {
   "cell_type": "code",
   "execution_count": null,
   "id": "3f606b1d",
   "metadata": {},
   "outputs": [],
   "source": [
    "from sklearn.model_selection import train_test_split\n",
    "import model\n",
    "cols=['PM2.5',\"PM10\",\"NO2\",\"SO2\",\"O3\"]\n",
    "X=encD[cols]\n",
    "y=encD['AQI']\n",
    "X_train, X_test, y_train, y_test = train_test_split(X, y, test_size=0.4) \n",
    "model=model()\n",
    "model.fit(X_train,y_train)\n",
    "y_pred = model.predict(X_test)\n",
    "y_pred"
   ]
  },
  {
   "cell_type": "markdown",
   "id": "4e286fbd",
   "metadata": {},
   "source": [
    "### ACCURACY"
   ]
  },
  {
   "cell_type": "code",
   "execution_count": null,
   "id": "52a25127",
   "metadata": {},
   "outputs": [],
   "source": [
    "model.score(X_test,y_test)"
   ]
  },
  {
   "cell_type": "markdown",
   "id": "6b5cb39c",
   "metadata": {},
   "source": [
    "### MEAN ABSOLUTE ERROR"
   ]
  },
  {
   "cell_type": "code",
   "execution_count": null,
   "id": "4d2cc25f",
   "metadata": {},
   "outputs": [],
   "source": [
    "from sklearn.metrics import mean_absolute_error\n",
    "y_train_pred = model.predict(X_train) \n",
    "mae_train = mean_absolute_error(y_train, y_train_pred) \n",
    "mae_test = mean_absolute_error(y_test, y_pred) \n",
    "print(mae_train) \n",
    "print(mae_test) \n",
    "if mae_train < mae_test:\n",
    "    print(\"Overfitting is present\")\n",
    "else:\n",
    "    print(\"Underfitting is present\")"
   ]
  },
  {
   "cell_type": "markdown",
   "id": "8003a11d",
   "metadata": {},
   "source": [
    "### CONFUSION MATRIX"
   ]
  },
  {
   "cell_type": "code",
   "execution_count": null,
   "id": "06d6cc87",
   "metadata": {},
   "outputs": [],
   "source": [
    "from sklearn.metrics import confusion_matrix\n",
    "confusion_matrix(y_test, y_pred) "
   ]
  },
  {
   "cell_type": "markdown",
   "id": "0faaa8d5",
   "metadata": {},
   "source": [
    "### CLASSIFICATION REPORT"
   ]
  },
  {
   "cell_type": "code",
   "execution_count": null,
   "id": "f536ef48",
   "metadata": {},
   "outputs": [],
   "source": [
    "from sklearn.metrics import classification_report\n",
    "print(classification_report(y_test, y_pred))"
   ]
  }
 ],
 "metadata": {
  "kernelspec": {
   "display_name": "Python 3 (ipykernel)",
   "language": "python",
   "name": "python3"
  },
  "language_info": {
   "codemirror_mode": {
    "name": "ipython",
    "version": 3
   },
   "file_extension": ".py",
   "mimetype": "text/x-python",
   "name": "python",
   "nbconvert_exporter": "python",
   "pygments_lexer": "ipython3",
   "version": "3.9.13"
  }
 },
 "nbformat": 4,
 "nbformat_minor": 5
}
