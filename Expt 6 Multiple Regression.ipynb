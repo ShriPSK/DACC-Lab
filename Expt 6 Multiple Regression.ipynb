{
 "cells": [
  {
   "cell_type": "markdown",
   "id": "7a54a970",
   "metadata": {},
   "source": [
    "#  <CENTER> MULTIPLE REGRESSION </CENTER>"
   ]
  },
  {
   "cell_type": "code",
   "execution_count": 1,
   "id": "919e3f62",
   "metadata": {},
   "outputs": [
    {
     "data": {
      "text/html": [
       "<div>\n",
       "<style scoped>\n",
       "    .dataframe tbody tr th:only-of-type {\n",
       "        vertical-align: middle;\n",
       "    }\n",
       "\n",
       "    .dataframe tbody tr th {\n",
       "        vertical-align: top;\n",
       "    }\n",
       "\n",
       "    .dataframe thead th {\n",
       "        text-align: right;\n",
       "    }\n",
       "</style>\n",
       "<table border=\"1\" class=\"dataframe\">\n",
       "  <thead>\n",
       "    <tr style=\"text-align: right;\">\n",
       "      <th></th>\n",
       "      <th>PM2.5</th>\n",
       "      <th>PM10</th>\n",
       "      <th>NO2</th>\n",
       "      <th>SO2</th>\n",
       "      <th>O3</th>\n",
       "      <th>AQI</th>\n",
       "    </tr>\n",
       "  </thead>\n",
       "  <tbody>\n",
       "    <tr>\n",
       "      <th>0</th>\n",
       "      <td>104.00</td>\n",
       "      <td>148.50</td>\n",
       "      <td>23.00</td>\n",
       "      <td>15.30</td>\n",
       "      <td>117.62</td>\n",
       "      <td>3.0</td>\n",
       "    </tr>\n",
       "    <tr>\n",
       "      <th>1</th>\n",
       "      <td>94.50</td>\n",
       "      <td>142.00</td>\n",
       "      <td>16.25</td>\n",
       "      <td>17.00</td>\n",
       "      <td>136.23</td>\n",
       "      <td>3.0</td>\n",
       "    </tr>\n",
       "    <tr>\n",
       "      <th>2</th>\n",
       "      <td>82.75</td>\n",
       "      <td>126.50</td>\n",
       "      <td>14.83</td>\n",
       "      <td>15.40</td>\n",
       "      <td>149.92</td>\n",
       "      <td>3.0</td>\n",
       "    </tr>\n",
       "    <tr>\n",
       "      <th>3</th>\n",
       "      <td>68.50</td>\n",
       "      <td>117.00</td>\n",
       "      <td>13.60</td>\n",
       "      <td>21.80</td>\n",
       "      <td>161.70</td>\n",
       "      <td>3.0</td>\n",
       "    </tr>\n",
       "    <tr>\n",
       "      <th>4</th>\n",
       "      <td>69.25</td>\n",
       "      <td>112.25</td>\n",
       "      <td>11.80</td>\n",
       "      <td>21.38</td>\n",
       "      <td>161.68</td>\n",
       "      <td>3.0</td>\n",
       "    </tr>\n",
       "    <tr>\n",
       "      <th>...</th>\n",
       "      <td>...</td>\n",
       "      <td>...</td>\n",
       "      <td>...</td>\n",
       "      <td>...</td>\n",
       "      <td>...</td>\n",
       "      <td>...</td>\n",
       "    </tr>\n",
       "    <tr>\n",
       "      <th>129272</th>\n",
       "      <td>12.75</td>\n",
       "      <td>45.00</td>\n",
       "      <td>17.20</td>\n",
       "      <td>10.82</td>\n",
       "      <td>45.80</td>\n",
       "      <td>5.0</td>\n",
       "    </tr>\n",
       "    <tr>\n",
       "      <th>129273</th>\n",
       "      <td>10.75</td>\n",
       "      <td>36.75</td>\n",
       "      <td>17.75</td>\n",
       "      <td>4.38</td>\n",
       "      <td>50.73</td>\n",
       "      <td>4.0</td>\n",
       "    </tr>\n",
       "    <tr>\n",
       "      <th>129274</th>\n",
       "      <td>15.75</td>\n",
       "      <td>30.25</td>\n",
       "      <td>13.75</td>\n",
       "      <td>2.90</td>\n",
       "      <td>41.55</td>\n",
       "      <td>4.0</td>\n",
       "    </tr>\n",
       "    <tr>\n",
       "      <th>129275</th>\n",
       "      <td>14.00</td>\n",
       "      <td>29.50</td>\n",
       "      <td>20.70</td>\n",
       "      <td>7.12</td>\n",
       "      <td>39.23</td>\n",
       "      <td>4.0</td>\n",
       "    </tr>\n",
       "    <tr>\n",
       "      <th>129276</th>\n",
       "      <td>9.75</td>\n",
       "      <td>24.25</td>\n",
       "      <td>23.85</td>\n",
       "      <td>8.45</td>\n",
       "      <td>34.78</td>\n",
       "      <td>4.0</td>\n",
       "    </tr>\n",
       "  </tbody>\n",
       "</table>\n",
       "<p>129277 rows × 6 columns</p>\n",
       "</div>"
      ],
      "text/plain": [
       "         PM2.5    PM10    NO2    SO2      O3  AQI\n",
       "0       104.00  148.50  23.00  15.30  117.62  3.0\n",
       "1        94.50  142.00  16.25  17.00  136.23  3.0\n",
       "2        82.75  126.50  14.83  15.40  149.92  3.0\n",
       "3        68.50  117.00  13.60  21.80  161.70  3.0\n",
       "4        69.25  112.25  11.80  21.38  161.68  3.0\n",
       "...        ...     ...    ...    ...     ...  ...\n",
       "129272   12.75   45.00  17.20  10.82   45.80  5.0\n",
       "129273   10.75   36.75  17.75   4.38   50.73  4.0\n",
       "129274   15.75   30.25  13.75   2.90   41.55  4.0\n",
       "129275   14.00   29.50  20.70   7.12   39.23  4.0\n",
       "129276    9.75   24.25  23.85   8.45   34.78  4.0\n",
       "\n",
       "[129277 rows x 6 columns]"
      ]
     },
     "execution_count": 1,
     "metadata": {},
     "output_type": "execute_result"
    }
   ],
   "source": [
    "import numpy as np\n",
    "import pandas as pd\n",
    "df=pd.read_csv('dataset.csv')\n",
    "df"
   ]
  },
  {
   "cell_type": "code",
   "execution_count": 2,
   "id": "03322e89",
   "metadata": {},
   "outputs": [
    {
     "name": "stdout",
     "output_type": "stream",
     "text": [
      "<class 'pandas.core.frame.DataFrame'>\n",
      "RangeIndex: 129277 entries, 0 to 129276\n",
      "Data columns (total 6 columns):\n",
      " #   Column  Non-Null Count   Dtype  \n",
      "---  ------  --------------   -----  \n",
      " 0   PM2.5   129277 non-null  float64\n",
      " 1   PM10    129277 non-null  float64\n",
      " 2   NO2     129277 non-null  float64\n",
      " 3   SO2     129277 non-null  float64\n",
      " 4   O3      129277 non-null  float64\n",
      " 5   AQI     129277 non-null  float64\n",
      "dtypes: float64(6)\n",
      "memory usage: 5.9 MB\n"
     ]
    }
   ],
   "source": [
    "from sklearn import preprocessing\n",
    "#Feature scaling - min max scaling\n",
    "from sklearn.preprocessing import MinMaxScaler\n",
    "scaler = MinMaxScaler()\n",
    "scaled = scaler.fit_transform(df)\n",
    "encD = pd.DataFrame(scaled, columns= df.columns)\n",
    "encD.info()"
   ]
  },
  {
   "cell_type": "code",
   "execution_count": 3,
   "id": "41a197f7",
   "metadata": {},
   "outputs": [],
   "source": [
    "X=df[['PM2.5','PM10','NO2','SO2','O3']]\n",
    "y=df[['AQI']]"
   ]
  },
  {
   "cell_type": "code",
   "execution_count": 4,
   "id": "cbbabb69",
   "metadata": {},
   "outputs": [
    {
     "data": {
      "text/plain": [
       "LinearRegression()"
      ]
     },
     "execution_count": 4,
     "metadata": {},
     "output_type": "execute_result"
    }
   ],
   "source": [
    "from sklearn.model_selection import train_test_split\n",
    "from sklearn import metrics\n",
    "X_train, X_test, y_train, y_test = train_test_split(X, y, test_size=0.2, random_state=40)\n",
    "from sklearn.linear_model import LinearRegression\n",
    "linear_regression = LinearRegression()\n",
    "linear_regression.fit(X_train, y_train)"
   ]
  },
  {
   "cell_type": "code",
   "execution_count": 5,
   "id": "2913f4c8",
   "metadata": {},
   "outputs": [
    {
     "data": {
      "text/plain": [
       "array([[3.81702004],\n",
       "       [2.80993375],\n",
       "       [2.87657045],\n",
       "       ...,\n",
       "       [3.17608338],\n",
       "       [2.21710344],\n",
       "       [2.44041965]])"
      ]
     },
     "execution_count": 5,
     "metadata": {},
     "output_type": "execute_result"
    }
   ],
   "source": [
    "y_pred=linear_regression.predict(X_test)\n",
    "y_pred"
   ]
  },
  {
   "cell_type": "code",
   "execution_count": 9,
   "id": "7cba5f69",
   "metadata": {},
   "outputs": [
    {
     "name": "stdout",
     "output_type": "stream",
     "text": [
      "0.49206427591072555\n",
      "0.4911247532705165\n",
      "Underfitting is present\n"
     ]
    }
   ],
   "source": [
    "from sklearn.metrics import mean_absolute_error\n",
    "y_train_pred = linear_regression.predict(X_train) \n",
    "mae_train = mean_absolute_error(y_train, y_train_pred) \n",
    "mae_test = mean_absolute_error(y_test, y_pred) \n",
    "print(mae_train) \n",
    "print(mae_test) \n",
    "if mae_train < mae_test:\n",
    "    print(\"Overfitting is present\")\n",
    "else:\n",
    "    print(\"Underfitting is present\")\n"
   ]
  },
  {
   "cell_type": "code",
   "execution_count": null,
   "id": "effc42f6",
   "metadata": {},
   "outputs": [],
   "source": []
  },
  {
   "cell_type": "code",
   "execution_count": null,
   "id": "ac57cb1d",
   "metadata": {},
   "outputs": [],
   "source": []
  }
 ],
 "metadata": {
  "kernelspec": {
   "display_name": "Python 3 (ipykernel)",
   "language": "python",
   "name": "python3"
  },
  "language_info": {
   "codemirror_mode": {
    "name": "ipython",
    "version": 3
   },
   "file_extension": ".py",
   "mimetype": "text/x-python",
   "name": "python",
   "nbconvert_exporter": "python",
   "pygments_lexer": "ipython3",
   "version": "3.9.13"
  }
 },
 "nbformat": 4,
 "nbformat_minor": 5
}
