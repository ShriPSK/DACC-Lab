{
 "cells": [
  {
   "cell_type": "markdown",
   "id": "b772d175",
   "metadata": {},
   "source": [
    "# <center>Univariate Analysis</center>"
   ]
  },
  {
   "cell_type": "code",
   "execution_count": 1,
   "id": "4bf63c63",
   "metadata": {},
   "outputs": [
    {
     "data": {
      "text/html": [
       "<div>\n",
       "<style scoped>\n",
       "    .dataframe tbody tr th:only-of-type {\n",
       "        vertical-align: middle;\n",
       "    }\n",
       "\n",
       "    .dataframe tbody tr th {\n",
       "        vertical-align: top;\n",
       "    }\n",
       "\n",
       "    .dataframe thead th {\n",
       "        text-align: right;\n",
       "    }\n",
       "</style>\n",
       "<table border=\"1\" class=\"dataframe\">\n",
       "  <thead>\n",
       "    <tr style=\"text-align: right;\">\n",
       "      <th></th>\n",
       "      <th>PM2.5</th>\n",
       "      <th>PM10</th>\n",
       "      <th>NO2</th>\n",
       "      <th>SO2</th>\n",
       "      <th>O3</th>\n",
       "      <th>AQI</th>\n",
       "    </tr>\n",
       "  </thead>\n",
       "  <tbody>\n",
       "    <tr>\n",
       "      <th>0</th>\n",
       "      <td>25.91</td>\n",
       "      <td>84.90</td>\n",
       "      <td>58.41</td>\n",
       "      <td>140.10</td>\n",
       "      <td>47.69</td>\n",
       "      <td>255.0</td>\n",
       "    </tr>\n",
       "    <tr>\n",
       "      <th>1</th>\n",
       "      <td>27.27</td>\n",
       "      <td>98.29</td>\n",
       "      <td>71.93</td>\n",
       "      <td>144.20</td>\n",
       "      <td>71.96</td>\n",
       "      <td>255.0</td>\n",
       "    </tr>\n",
       "    <tr>\n",
       "      <th>2</th>\n",
       "      <td>27.27</td>\n",
       "      <td>102.68</td>\n",
       "      <td>66.79</td>\n",
       "      <td>124.37</td>\n",
       "      <td>88.85</td>\n",
       "      <td>255.0</td>\n",
       "    </tr>\n",
       "    <tr>\n",
       "      <th>3</th>\n",
       "      <td>27.30</td>\n",
       "      <td>102.68</td>\n",
       "      <td>60.64</td>\n",
       "      <td>170.01</td>\n",
       "      <td>97.76</td>\n",
       "      <td>255.0</td>\n",
       "    </tr>\n",
       "    <tr>\n",
       "      <th>4</th>\n",
       "      <td>23.84</td>\n",
       "      <td>121.94</td>\n",
       "      <td>70.40</td>\n",
       "      <td>31.13</td>\n",
       "      <td>94.66</td>\n",
       "      <td>255.0</td>\n",
       "    </tr>\n",
       "    <tr>\n",
       "      <th>...</th>\n",
       "      <td>...</td>\n",
       "      <td>...</td>\n",
       "      <td>...</td>\n",
       "      <td>...</td>\n",
       "      <td>...</td>\n",
       "      <td>...</td>\n",
       "    </tr>\n",
       "    <tr>\n",
       "      <th>347552</th>\n",
       "      <td>8.25</td>\n",
       "      <td>33.25</td>\n",
       "      <td>24.05</td>\n",
       "      <td>1.85</td>\n",
       "      <td>41.38</td>\n",
       "      <td>51.0</td>\n",
       "    </tr>\n",
       "    <tr>\n",
       "      <th>347553</th>\n",
       "      <td>17.25</td>\n",
       "      <td>49.25</td>\n",
       "      <td>33.20</td>\n",
       "      <td>2.02</td>\n",
       "      <td>25.58</td>\n",
       "      <td>51.0</td>\n",
       "    </tr>\n",
       "    <tr>\n",
       "      <th>347554</th>\n",
       "      <td>36.00</td>\n",
       "      <td>71.00</td>\n",
       "      <td>30.80</td>\n",
       "      <td>1.77</td>\n",
       "      <td>26.15</td>\n",
       "      <td>50.0</td>\n",
       "    </tr>\n",
       "    <tr>\n",
       "      <th>347555</th>\n",
       "      <td>15.75</td>\n",
       "      <td>63.00</td>\n",
       "      <td>28.90</td>\n",
       "      <td>0.75</td>\n",
       "      <td>15.82</td>\n",
       "      <td>50.0</td>\n",
       "    </tr>\n",
       "    <tr>\n",
       "      <th>347556</th>\n",
       "      <td>15.00</td>\n",
       "      <td>66.00</td>\n",
       "      <td>26.85</td>\n",
       "      <td>2.10</td>\n",
       "      <td>17.05</td>\n",
       "      <td>50.0</td>\n",
       "    </tr>\n",
       "  </tbody>\n",
       "</table>\n",
       "<p>347557 rows × 6 columns</p>\n",
       "</div>"
      ],
      "text/plain": [
       "        PM2.5    PM10    NO2     SO2     O3    AQI\n",
       "0       25.91   84.90  58.41  140.10  47.69  255.0\n",
       "1       27.27   98.29  71.93  144.20  71.96  255.0\n",
       "2       27.27  102.68  66.79  124.37  88.85  255.0\n",
       "3       27.30  102.68  60.64  170.01  97.76  255.0\n",
       "4       23.84  121.94  70.40   31.13  94.66  255.0\n",
       "...       ...     ...    ...     ...    ...    ...\n",
       "347552   8.25   33.25  24.05    1.85  41.38   51.0\n",
       "347553  17.25   49.25  33.20    2.02  25.58   51.0\n",
       "347554  36.00   71.00  30.80    1.77  26.15   50.0\n",
       "347555  15.75   63.00  28.90    0.75  15.82   50.0\n",
       "347556  15.00   66.00  26.85    2.10  17.05   50.0\n",
       "\n",
       "[347557 rows x 6 columns]"
      ]
     },
     "execution_count": 1,
     "metadata": {},
     "output_type": "execute_result"
    }
   ],
   "source": [
    "import pandas as pd\n",
    "df=pd.read_csv(\"archive/city_hour.csv\")\n",
    "df=df[[\"PM2.5\",\"PM10\",\"NO2\",\"SO2\",\"O3\",\"AQI\"]].dropna().reset_index()\n",
    "df=df.drop([\"index\"],axis=1)\n",
    "df"
   ]
  },
  {
   "cell_type": "code",
   "execution_count": 2,
   "id": "2bdb03c0",
   "metadata": {},
   "outputs": [
    {
     "data": {
      "text/plain": [
       "68.0      3389\n",
       "102.0     3389\n",
       "64.0      3275\n",
       "72.0      3183\n",
       "66.0      3172\n",
       "          ... \n",
       "740.0        1\n",
       "661.0        1\n",
       "1157.0       1\n",
       "767.0        1\n",
       "8.0          1\n",
       "Name: AQI, Length: 884, dtype: int64"
      ]
     },
     "execution_count": 2,
     "metadata": {},
     "output_type": "execute_result"
    }
   ],
   "source": [
    "df['AQI'].value_counts()"
   ]
  },
  {
   "cell_type": "code",
   "execution_count": 3,
   "id": "b34c7b5a",
   "metadata": {},
   "outputs": [
    {
     "data": {
      "text/plain": [
       "36.05122673403284"
      ]
     },
     "execution_count": 3,
     "metadata": {},
     "output_type": "execute_result"
    }
   ],
   "source": [
    "df[\"O3\"].mean()"
   ]
  },
  {
   "cell_type": "code",
   "execution_count": 4,
   "id": "8f46f545",
   "metadata": {},
   "outputs": [
    {
     "data": {
      "text/plain": [
       "27.96"
      ]
     },
     "execution_count": 4,
     "metadata": {},
     "output_type": "execute_result"
    }
   ],
   "source": [
    "df[\"O3\"].median()"
   ]
  },
  {
   "cell_type": "code",
   "execution_count": 5,
   "id": "0029d111",
   "metadata": {},
   "outputs": [
    {
     "data": {
      "text/plain": [
       "0    22.14\n",
       "Name: O3, dtype: float64"
      ]
     },
     "execution_count": 5,
     "metadata": {},
     "output_type": "execute_result"
    }
   ],
   "source": [
    "df[\"O3\"].mode()"
   ]
  },
  {
   "cell_type": "code",
   "execution_count": 6,
   "id": "2d289e10",
   "metadata": {},
   "outputs": [
    {
     "data": {
      "text/plain": [
       "848.4269834914085"
      ]
     },
     "execution_count": 6,
     "metadata": {},
     "output_type": "execute_result"
    }
   ],
   "source": [
    "df[\"O3\"].var()"
   ]
  },
  {
   "cell_type": "code",
   "execution_count": 7,
   "id": "7e2b0f8d",
   "metadata": {},
   "outputs": [
    {
     "data": {
      "text/plain": [
       "29.127769971135937"
      ]
     },
     "execution_count": 7,
     "metadata": {},
     "output_type": "execute_result"
    }
   ],
   "source": [
    "df[\"O3\"].std()"
   ]
  },
  {
   "cell_type": "code",
   "execution_count": 8,
   "id": "b384883c",
   "metadata": {},
   "outputs": [
    {
     "name": "stdout",
     "output_type": "stream",
     "text": [
      "Skewness =  2.958968947212698\n"
     ]
    }
   ],
   "source": [
    "from scipy.stats import skew\n",
    "import numpy as np\n",
    "import pylab as p\n",
    "y1 = df['AQI']\n",
    "print(\"Skewness = \", skew(y1))"
   ]
  },
  {
   "cell_type": "code",
   "execution_count": 9,
   "id": "2ef42781",
   "metadata": {},
   "outputs": [
    {
     "name": "stderr",
     "output_type": "stream",
     "text": [
      "C:\\ProgramData\\Anaconda3\\lib\\site-packages\\seaborn\\distributions.py:2619: FutureWarning: `distplot` is a deprecated function and will be removed in a future version. Please adapt your code to use either `displot` (a figure-level function with similar flexibility) or `histplot` (an axes-level function for histograms).\n",
      "  warnings.warn(msg, FutureWarning)\n"
     ]
    },
    {
     "data": {
      "text/plain": [
       "4.72922057433085"
      ]
     },
     "execution_count": 9,
     "metadata": {},
     "output_type": "execute_result"
    },
    {
     "data": {
      "image/png": "[encoded data removed]",
      "text/plain": [
       "<Figure size 640x480 with 1 Axes>"
      ]
     },
     "metadata": {},
     "output_type": "display_data"
    }
   ],
   "source": [
    "import seaborn as sns\n",
    "sns.distplot(df['O3'], hist=True, kde=True)\n",
    "df['O3'].kurt()"
   ]
  },
  {
   "cell_type": "code",
   "execution_count": 10,
   "id": "ca7d7bff",
   "metadata": {},
   "outputs": [
    {
     "data": {
      "text/html": [
       "<div>\n",
       "<style scoped>\n",
       "    .dataframe tbody tr th:only-of-type {\n",
       "        vertical-align: middle;\n",
       "    }\n",
       "\n",
       "    .dataframe tbody tr th {\n",
       "        vertical-align: top;\n",
       "    }\n",
       "\n",
       "    .dataframe thead th {\n",
       "        text-align: right;\n",
       "    }\n",
       "</style>\n",
       "<table border=\"1\" class=\"dataframe\">\n",
       "  <thead>\n",
       "    <tr style=\"text-align: right;\">\n",
       "      <th></th>\n",
       "      <th>Temperature</th>\n",
       "    </tr>\n",
       "    <tr>\n",
       "      <th>Date</th>\n",
       "      <th></th>\n",
       "    </tr>\n",
       "  </thead>\n",
       "  <tbody>\n",
       "    <tr>\n",
       "      <th>2023-01-01</th>\n",
       "      <td>23</td>\n",
       "    </tr>\n",
       "    <tr>\n",
       "      <th>2023-02-01</th>\n",
       "      <td>25</td>\n",
       "    </tr>\n",
       "    <tr>\n",
       "      <th>2023-03-01</th>\n",
       "      <td>27</td>\n",
       "    </tr>\n",
       "    <tr>\n",
       "      <th>2023-04-01</th>\n",
       "      <td>22</td>\n",
       "    </tr>\n",
       "    <tr>\n",
       "      <th>2023-05-01</th>\n",
       "      <td>24</td>\n",
       "    </tr>\n",
       "    <tr>\n",
       "      <th>2023-06-01</th>\n",
       "      <td>25</td>\n",
       "    </tr>\n",
       "    <tr>\n",
       "      <th>2023-07-01</th>\n",
       "      <td>23</td>\n",
       "    </tr>\n",
       "    <tr>\n",
       "      <th>2023-08-01</th>\n",
       "      <td>27</td>\n",
       "    </tr>\n",
       "  </tbody>\n",
       "</table>\n",
       "</div>"
      ],
      "text/plain": [
       "            Temperature\n",
       "Date                   \n",
       "2023-01-01           23\n",
       "2023-02-01           25\n",
       "2023-03-01           27\n",
       "2023-04-01           22\n",
       "2023-05-01           24\n",
       "2023-06-01           25\n",
       "2023-07-01           23\n",
       "2023-08-01           27"
      ]
     },
     "execution_count": 10,
     "metadata": {},
     "output_type": "execute_result"
    }
   ],
   "source": [
    "df1=pd.read_csv(\"archive/time_series_dataset.csv\",parse_dates=[\"Date\"],index_col=[\"Date\"])\n",
    "df1"
   ]
  },
  {
   "cell_type": "code",
   "execution_count": 11,
   "id": "d8921d9b",
   "metadata": {},
   "outputs": [
    {
     "data": {
      "text/html": [
       "<div>\n",
       "<style scoped>\n",
       "    .dataframe tbody tr th:only-of-type {\n",
       "        vertical-align: middle;\n",
       "    }\n",
       "\n",
       "    .dataframe tbody tr th {\n",
       "        vertical-align: top;\n",
       "    }\n",
       "\n",
       "    .dataframe thead th {\n",
       "        text-align: right;\n",
       "    }\n",
       "</style>\n",
       "<table border=\"1\" class=\"dataframe\">\n",
       "  <thead>\n",
       "    <tr style=\"text-align: right;\">\n",
       "      <th></th>\n",
       "      <th>Temperature</th>\n",
       "    </tr>\n",
       "    <tr>\n",
       "      <th>Date</th>\n",
       "      <th></th>\n",
       "    </tr>\n",
       "  </thead>\n",
       "  <tbody>\n",
       "    <tr>\n",
       "      <th>2023-01-31</th>\n",
       "      <td>23.000000</td>\n",
       "    </tr>\n",
       "    <tr>\n",
       "      <th>2023-04-30</th>\n",
       "      <td>24.666667</td>\n",
       "    </tr>\n",
       "    <tr>\n",
       "      <th>2023-07-31</th>\n",
       "      <td>24.000000</td>\n",
       "    </tr>\n",
       "    <tr>\n",
       "      <th>2023-10-31</th>\n",
       "      <td>27.000000</td>\n",
       "    </tr>\n",
       "  </tbody>\n",
       "</table>\n",
       "</div>"
      ],
      "text/plain": [
       "            Temperature\n",
       "Date                   \n",
       "2023-01-31    23.000000\n",
       "2023-04-30    24.666667\n",
       "2023-07-31    24.000000\n",
       "2023-10-31    27.000000"
      ]
     },
     "execution_count": 11,
     "metadata": {},
     "output_type": "execute_result"
    }
   ],
   "source": [
    "df1.resample('3M').mean()"
   ]
  },
  {
   "cell_type": "code",
   "execution_count": 12,
   "id": "aaf632de",
   "metadata": {},
   "outputs": [
    {
     "data": {
      "image/png": "[encoded data removed]",
      "text/plain": [
       "<Figure size 640x480 with 1 Axes>"
      ]
     },
     "metadata": {},
     "output_type": "display_data"
    }
   ],
   "source": [
    "from sklearn.datasets import make_regression\n",
    "from sklearn.tree import DecisionTreeRegressor\n",
    "import matplotlib.pyplot as plt\n",
    "X, y = make_regression(n_samples=1000, n_features=15, n_informative=5,\n",
    "random_state=1)\n",
    "model = DecisionTreeRegressor()\n",
    "model.fit(X, y)\n",
    "importance = model.feature_importances_\n",
    "plt.bar([x for x in range(len(importance))], importance)\n",
    "plt.show()"
   ]
  },
  {
   "cell_type": "code",
   "execution_count": 13,
   "id": "30b612aa",
   "metadata": {},
   "outputs": [
    {
     "name": "stdout",
     "output_type": "stream",
     "text": [
      "Mean Absolute Error: 0.0 degrees.\n"
     ]
    }
   ],
   "source": [
    "pred = model.predict(X)\n",
    "errors = abs(pred - y)\n",
    "print('Mean Absolute Error:', round(np.mean(errors), 2), 'degrees.')"
   ]
  },
  {
   "cell_type": "code",
   "execution_count": 14,
   "id": "6d759028",
   "metadata": {},
   "outputs": [
    {
     "name": "stdout",
     "output_type": "stream",
     "text": [
      "Accuracy: 100.0 %.\n"
     ]
    }
   ],
   "source": [
    "mape = 100 * (errors / y)\n",
    "accuracy = 100 - np.mean(mape)\n",
    "print('Accuracy:', round(accuracy, 2), '%.')"
   ]
  },
  {
   "cell_type": "code",
   "execution_count": null,
   "id": "0a0308f5",
   "metadata": {},
   "outputs": [],
   "source": []
  }
 ],
 "metadata": {
  "kernelspec": {
   "display_name": "Python 3 (ipykernel)",
   "language": "python",
   "name": "python3"
  },
  "language_info": {
   "codemirror_mode": {
    "name": "ipython",
    "version": 3
   },
   "file_extension": ".py",
   "mimetype": "text/x-python",
   "name": "python",
   "nbconvert_exporter": "python",
   "pygments_lexer": "ipython3",
   "version": "3.9.13"
  }
 },
 "nbformat": 4,
 "nbformat_minor": 5
}
